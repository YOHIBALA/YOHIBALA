{
  "nbformat": 4,
  "nbformat_minor": 0,
  "metadata": {
    "colab": {
      "provenance": [],
      "authorship_tag": "ABX9TyM3RzmmnuE4Iacxha7dhC9E",
      "include_colab_link": true
    },
    "kernelspec": {
      "name": "python3",
      "display_name": "Python 3"
    },
    "language_info": {
      "name": "python"
    }
  },
  "cells": [
    {
      "cell_type": "markdown",
      "metadata": {
        "id": "view-in-github",
        "colab_type": "text"
      },
      "source": [
        "<a href=\"https://colab.research.google.com/github/YOHIBALA/YOHIBALA/blob/main/ckd.ipynb\" target=\"_parent\"><img src=\"https://colab.research.google.com/assets/colab-badge.svg\" alt=\"Open In Colab\"/></a>"
      ]
    },
    {
      "cell_type": "code",
      "source": [
        "-import pandas as pd "
      ],
      "metadata": {
        "id": "eimfnbT1FqYe"
      },
      "execution_count": null,
      "outputs": []
    },
    {
      "cell_type": "code",
      "source": [
        "from collections import Counter as c"
      ],
      "metadata": {
        "id": "8sklzuWsGNOe"
      },
      "execution_count": null,
      "outputs": []
    },
    {
      "cell_type": "code",
      "source": [
        "import matplotlib.pyplot as plt"
      ],
      "metadata": {
        "id": "YvN2VrK_GNQn"
      },
      "execution_count": null,
      "outputs": []
    },
    {
      "cell_type": "code",
      "source": [
        "import seaborn as sns"
      ],
      "metadata": {
        "id": "dbCU7Pp3Fqa-"
      },
      "execution_count": null,
      "outputs": []
    },
    {
      "cell_type": "code",
      "source": [
        "import missingno as msno"
      ],
      "metadata": {
        "id": "yTu7RNr0FqdX"
      },
      "execution_count": null,
      "outputs": []
    },
    {
      "cell_type": "code",
      "source": [
        "from sklearn.metrics import accuracy_score,confusion_matrix"
      ],
      "metadata": {
        "id": "JZMgh4cfFqfw"
      },
      "execution_count": null,
      "outputs": []
    },
    {
      "cell_type": "code",
      "source": [
        "from sklearn.model_selection import train_test_split"
      ],
      "metadata": {
        "id": "tMbW8BK7FqiO"
      },
      "execution_count": null,
      "outputs": []
    },
    {
      "cell_type": "code",
      "source": [
        "from sklearn.preprocessing import LabelEncoder"
      ],
      "metadata": {
        "id": "FEmN0FEOLpdJ"
      },
      "execution_count": null,
      "outputs": []
    },
    {
      "cell_type": "code",
      "source": [
        "from sklearn.linear_model import LogisticRegression"
      ],
      "metadata": {
        "id": "b1pbAw-VLpjQ"
      },
      "execution_count": null,
      "outputs": []
    },
    {
      "cell_type": "code",
      "source": [
        "import pickle"
      ],
      "metadata": {
        "id": "H-3sFo2hLplg"
      },
      "execution_count": null,
      "outputs": []
    },
    {
      "cell_type": "code",
      "source": [
        "data=pd.read_csv(\"kidney_disease.csv\")"
      ],
      "metadata": {
        "id": "TM8NbCDQLpoR"
      },
      "execution_count": null,
      "outputs": []
    },
    {
      "cell_type": "code",
      "source": [
        "data.head()"
      ],
      "metadata": {
        "colab": {
          "base_uri": "https://localhost:8080/",
          "height": 300
        },
        "id": "8z4w75VKLpqw",
        "outputId": "24660361-8925-47b9-dd6e-71b65ad04a44"
      },
      "execution_count": null,
      "outputs": [
        {
          "output_type": "execute_result",
          "data": {
            "text/plain": [
              "   id   age    bp     sg   al   su     rbc        pc         pcc          ba  \\\n",
              "0   0  48.0  80.0  1.020  1.0  0.0     NaN    normal  notpresent  notpresent   \n",
              "1   1   7.0  50.0  1.020  4.0  0.0     NaN    normal  notpresent  notpresent   \n",
              "2   2  62.0  80.0  1.010  2.0  3.0  normal    normal  notpresent  notpresent   \n",
              "3   3  48.0  70.0  1.005  4.0  0.0  normal  abnormal     present  notpresent   \n",
              "4   4  51.0  80.0  1.010  2.0  0.0  normal    normal  notpresent  notpresent   \n",
              "\n",
              "   ...  pcv    wc   rc  htn   dm  cad appet   pe  ane classification  \n",
              "0  ...   44  7800  5.2  yes  yes   no  good   no   no            ckd  \n",
              "1  ...   38  6000  NaN   no   no   no  good   no   no            ckd  \n",
              "2  ...   31  7500  NaN   no  yes   no  poor   no  yes            ckd  \n",
              "3  ...   32  6700  3.9  yes   no   no  poor  yes  yes            ckd  \n",
              "4  ...   35  7300  4.6   no   no   no  good   no   no            ckd  \n",
              "\n",
              "[5 rows x 26 columns]"
            ],
            "text/html": [
              "\n",
              "  <div id=\"df-85831534-7a5f-47d4-847e-3fb02cdad857\">\n",
              "    <div class=\"colab-df-container\">\n",
              "      <div>\n",
              "<style scoped>\n",
              "    .dataframe tbody tr th:only-of-type {\n",
              "        vertical-align: middle;\n",
              "    }\n",
              "\n",
              "    .dataframe tbody tr th {\n",
              "        vertical-align: top;\n",
              "    }\n",
              "\n",
              "    .dataframe thead th {\n",
              "        text-align: right;\n",
              "    }\n",
              "</style>\n",
              "<table border=\"1\" class=\"dataframe\">\n",
              "  <thead>\n",
              "    <tr style=\"text-align: right;\">\n",
              "      <th></th>\n",
              "      <th>id</th>\n",
              "      <th>age</th>\n",
              "      <th>bp</th>\n",
              "      <th>sg</th>\n",
              "      <th>al</th>\n",
              "      <th>su</th>\n",
              "      <th>rbc</th>\n",
              "      <th>pc</th>\n",
              "      <th>pcc</th>\n",
              "      <th>ba</th>\n",
              "      <th>...</th>\n",
              "      <th>pcv</th>\n",
              "      <th>wc</th>\n",
              "      <th>rc</th>\n",
              "      <th>htn</th>\n",
              "      <th>dm</th>\n",
              "      <th>cad</th>\n",
              "      <th>appet</th>\n",
              "      <th>pe</th>\n",
              "      <th>ane</th>\n",
              "      <th>classification</th>\n",
              "    </tr>\n",
              "  </thead>\n",
              "  <tbody>\n",
              "    <tr>\n",
              "      <th>0</th>\n",
              "      <td>0</td>\n",
              "      <td>48.0</td>\n",
              "      <td>80.0</td>\n",
              "      <td>1.020</td>\n",
              "      <td>1.0</td>\n",
              "      <td>0.0</td>\n",
              "      <td>NaN</td>\n",
              "      <td>normal</td>\n",
              "      <td>notpresent</td>\n",
              "      <td>notpresent</td>\n",
              "      <td>...</td>\n",
              "      <td>44</td>\n",
              "      <td>7800</td>\n",
              "      <td>5.2</td>\n",
              "      <td>yes</td>\n",
              "      <td>yes</td>\n",
              "      <td>no</td>\n",
              "      <td>good</td>\n",
              "      <td>no</td>\n",
              "      <td>no</td>\n",
              "      <td>ckd</td>\n",
              "    </tr>\n",
              "    <tr>\n",
              "      <th>1</th>\n",
              "      <td>1</td>\n",
              "      <td>7.0</td>\n",
              "      <td>50.0</td>\n",
              "      <td>1.020</td>\n",
              "      <td>4.0</td>\n",
              "      <td>0.0</td>\n",
              "      <td>NaN</td>\n",
              "      <td>normal</td>\n",
              "      <td>notpresent</td>\n",
              "      <td>notpresent</td>\n",
              "      <td>...</td>\n",
              "      <td>38</td>\n",
              "      <td>6000</td>\n",
              "      <td>NaN</td>\n",
              "      <td>no</td>\n",
              "      <td>no</td>\n",
              "      <td>no</td>\n",
              "      <td>good</td>\n",
              "      <td>no</td>\n",
              "      <td>no</td>\n",
              "      <td>ckd</td>\n",
              "    </tr>\n",
              "    <tr>\n",
              "      <th>2</th>\n",
              "      <td>2</td>\n",
              "      <td>62.0</td>\n",
              "      <td>80.0</td>\n",
              "      <td>1.010</td>\n",
              "      <td>2.0</td>\n",
              "      <td>3.0</td>\n",
              "      <td>normal</td>\n",
              "      <td>normal</td>\n",
              "      <td>notpresent</td>\n",
              "      <td>notpresent</td>\n",
              "      <td>...</td>\n",
              "      <td>31</td>\n",
              "      <td>7500</td>\n",
              "      <td>NaN</td>\n",
              "      <td>no</td>\n",
              "      <td>yes</td>\n",
              "      <td>no</td>\n",
              "      <td>poor</td>\n",
              "      <td>no</td>\n",
              "      <td>yes</td>\n",
              "      <td>ckd</td>\n",
              "    </tr>\n",
              "    <tr>\n",
              "      <th>3</th>\n",
              "      <td>3</td>\n",
              "      <td>48.0</td>\n",
              "      <td>70.0</td>\n",
              "      <td>1.005</td>\n",
              "      <td>4.0</td>\n",
              "      <td>0.0</td>\n",
              "      <td>normal</td>\n",
              "      <td>abnormal</td>\n",
              "      <td>present</td>\n",
              "      <td>notpresent</td>\n",
              "      <td>...</td>\n",
              "      <td>32</td>\n",
              "      <td>6700</td>\n",
              "      <td>3.9</td>\n",
              "      <td>yes</td>\n",
              "      <td>no</td>\n",
              "      <td>no</td>\n",
              "      <td>poor</td>\n",
              "      <td>yes</td>\n",
              "      <td>yes</td>\n",
              "      <td>ckd</td>\n",
              "    </tr>\n",
              "    <tr>\n",
              "      <th>4</th>\n",
              "      <td>4</td>\n",
              "      <td>51.0</td>\n",
              "      <td>80.0</td>\n",
              "      <td>1.010</td>\n",
              "      <td>2.0</td>\n",
              "      <td>0.0</td>\n",
              "      <td>normal</td>\n",
              "      <td>normal</td>\n",
              "      <td>notpresent</td>\n",
              "      <td>notpresent</td>\n",
              "      <td>...</td>\n",
              "      <td>35</td>\n",
              "      <td>7300</td>\n",
              "      <td>4.6</td>\n",
              "      <td>no</td>\n",
              "      <td>no</td>\n",
              "      <td>no</td>\n",
              "      <td>good</td>\n",
              "      <td>no</td>\n",
              "      <td>no</td>\n",
              "      <td>ckd</td>\n",
              "    </tr>\n",
              "  </tbody>\n",
              "</table>\n",
              "<p>5 rows × 26 columns</p>\n",
              "</div>\n",
              "      <button class=\"colab-df-convert\" onclick=\"convertToInteractive('df-85831534-7a5f-47d4-847e-3fb02cdad857')\"\n",
              "              title=\"Convert this dataframe to an interactive table.\"\n",
              "              style=\"display:none;\">\n",
              "        \n",
              "  <svg xmlns=\"http://www.w3.org/2000/svg\" height=\"24px\"viewBox=\"0 0 24 24\"\n",
              "       width=\"24px\">\n",
              "    <path d=\"M0 0h24v24H0V0z\" fill=\"none\"/>\n",
              "    <path d=\"M18.56 5.44l.94 2.06.94-2.06 2.06-.94-2.06-.94-.94-2.06-.94 2.06-2.06.94zm-11 1L8.5 8.5l.94-2.06 2.06-.94-2.06-.94L8.5 2.5l-.94 2.06-2.06.94zm10 10l.94 2.06.94-2.06 2.06-.94-2.06-.94-.94-2.06-.94 2.06-2.06.94z\"/><path d=\"M17.41 7.96l-1.37-1.37c-.4-.4-.92-.59-1.43-.59-.52 0-1.04.2-1.43.59L10.3 9.45l-7.72 7.72c-.78.78-.78 2.05 0 2.83L4 21.41c.39.39.9.59 1.41.59.51 0 1.02-.2 1.41-.59l7.78-7.78 2.81-2.81c.8-.78.8-2.07 0-2.86zM5.41 20L4 18.59l7.72-7.72 1.47 1.35L5.41 20z\"/>\n",
              "  </svg>\n",
              "      </button>\n",
              "      \n",
              "  <style>\n",
              "    .colab-df-container {\n",
              "      display:flex;\n",
              "      flex-wrap:wrap;\n",
              "      gap: 12px;\n",
              "    }\n",
              "\n",
              "    .colab-df-convert {\n",
              "      background-color: #E8F0FE;\n",
              "      border: none;\n",
              "      border-radius: 50%;\n",
              "      cursor: pointer;\n",
              "      display: none;\n",
              "      fill: #1967D2;\n",
              "      height: 32px;\n",
              "      padding: 0 0 0 0;\n",
              "      width: 32px;\n",
              "    }\n",
              "\n",
              "    .colab-df-convert:hover {\n",
              "      background-color: #E2EBFA;\n",
              "      box-shadow: 0px 1px 2px rgba(60, 64, 67, 0.3), 0px 1px 3px 1px rgba(60, 64, 67, 0.15);\n",
              "      fill: #174EA6;\n",
              "    }\n",
              "\n",
              "    [theme=dark] .colab-df-convert {\n",
              "      background-color: #3B4455;\n",
              "      fill: #D2E3FC;\n",
              "    }\n",
              "\n",
              "    [theme=dark] .colab-df-convert:hover {\n",
              "      background-color: #434B5C;\n",
              "      box-shadow: 0px 1px 3px 1px rgba(0, 0, 0, 0.15);\n",
              "      filter: drop-shadow(0px 1px 2px rgba(0, 0, 0, 0.3));\n",
              "      fill: #FFFFFF;\n",
              "    }\n",
              "  </style>\n",
              "\n",
              "      <script>\n",
              "        const buttonEl =\n",
              "          document.querySelector('#df-85831534-7a5f-47d4-847e-3fb02cdad857 button.colab-df-convert');\n",
              "        buttonEl.style.display =\n",
              "          google.colab.kernel.accessAllowed ? 'block' : 'none';\n",
              "\n",
              "        async function convertToInteractive(key) {\n",
              "          const element = document.querySelector('#df-85831534-7a5f-47d4-847e-3fb02cdad857');\n",
              "          const dataTable =\n",
              "            await google.colab.kernel.invokeFunction('convertToInteractive',\n",
              "                                                     [key], {});\n",
              "          if (!dataTable) return;\n",
              "\n",
              "          const docLinkHtml = 'Like what you see? Visit the ' +\n",
              "            '<a target=\"_blank\" href=https://colab.research.google.com/notebooks/data_table.ipynb>data table notebook</a>'\n",
              "            + ' to learn more about interactive tables.';\n",
              "          element.innerHTML = '';\n",
              "          dataTable['output_type'] = 'display_data';\n",
              "          await google.colab.output.renderOutput(dataTable, element);\n",
              "          const docLink = document.createElement('div');\n",
              "          docLink.innerHTML = docLinkHtml;\n",
              "          element.appendChild(docLink);\n",
              "        }\n",
              "      </script>\n",
              "    </div>\n",
              "  </div>\n",
              "  "
            ]
          },
          "metadata": {},
          "execution_count": 41
        }
      ]
    },
    {
      "cell_type": "code",
      "source": [
        "data.columns"
      ],
      "metadata": {
        "colab": {
          "base_uri": "https://localhost:8080/"
        },
        "id": "JBjZR2wBSoa1",
        "outputId": "86c7b325-ebb6-4f5a-ac95-8223d44c4310"
      },
      "execution_count": null,
      "outputs": [
        {
          "output_type": "execute_result",
          "data": {
            "text/plain": [
              "Index(['id', 'age', 'blood_pressure', 'specific_gravity', 'albumin', 'sugar',\n",
              "       'red_blood_cells', 'pus_cell', 'pus_cell_clumps', 'bacteria',\n",
              "       'blood glucose random', 'blood_urea', 'serum_creatinine', 'sodium',\n",
              "       'potassium', 'hemoglobin', 'packed_cell_volume',\n",
              "       'white_blood_cell_count', 'red_blood_cell_count', 'hypertension',\n",
              "       'diabetesmellitus', 'coronary_artery_disease', 'appetite',\n",
              "       'pedal_edema', 'anemia', 'class'],\n",
              "      dtype='object')"
            ]
          },
          "metadata": {},
          "execution_count": 125
        }
      ]
    },
    {
      "cell_type": "code",
      "source": [
        "data.columns=['id','age','blood_pressure','specific_gravity','albumin',\n",
        "              'sugar','red_blood_cells','pus_cell','pus_cell_clumps','bacteria',\n",
        "              'blood glucose random','blood_urea','serum_creatinine','sodium','potassium',\n",
        "              'hemoglobin','pcv','white_blood_cell_count','red_blood_cell_count',\n",
        "              'hypertension','diabetesmellitus','coronary_artery_disease','appetite',\n",
        "              'pedal_edema','anemia','class']\n",
        "\n",
        "data.columns"
      ],
      "metadata": {
        "colab": {
          "base_uri": "https://localhost:8080/"
        },
        "id": "7viVdvjzLpv4",
        "outputId": "871e4078-00c4-4ef1-c866-6e57498272aa"
      },
      "execution_count": null,
      "outputs": [
        {
          "output_type": "execute_result",
          "data": {
            "text/plain": [
              "Index(['id', 'age', 'blood_pressure', 'specific_gravity', 'albumin', 'sugar',\n",
              "       'red_blood_cells', 'pus_cell', 'pus_cell_clumps', 'bacteria',\n",
              "       'blood glucose random', 'blood_urea', 'serum_creatinine', 'sodium',\n",
              "       'potassium', 'hemoglobin', 'pcv', 'white_blood_cell_count',\n",
              "       'red_blood_cell_count', 'hypertension', 'diabetesmellitus',\n",
              "       'coronary_artery_disease', 'appetite', 'pedal_edema', 'anemia',\n",
              "       'class'],\n",
              "      dtype='object')"
            ]
          },
          "metadata": {},
          "execution_count": 126
        }
      ]
    },
    {
      "cell_type": "code",
      "source": [
        "data.info()"
      ],
      "metadata": {
        "colab": {
          "base_uri": "https://localhost:8080/"
        },
        "id": "t3BW0sQnLp2x",
        "outputId": "4373da24-828b-4cbc-fd1b-7b56b903b8fc"
      },
      "execution_count": null,
      "outputs": [
        {
          "output_type": "stream",
          "name": "stdout",
          "text": [
            "<class 'pandas.core.frame.DataFrame'>\n",
            "RangeIndex: 400 entries, 0 to 399\n",
            "Data columns (total 26 columns):\n",
            " #   Column                   Non-Null Count  Dtype  \n",
            "---  ------                   --------------  -----  \n",
            " 0   id                       400 non-null    int64  \n",
            " 1   age                      391 non-null    float64\n",
            " 2   blood_pressure           388 non-null    float64\n",
            " 3   specific_gravity         353 non-null    float64\n",
            " 4   albumin                  354 non-null    float64\n",
            " 5   sugar                    351 non-null    float64\n",
            " 6   red_blood_cells          248 non-null    object \n",
            " 7   pus_cell                 335 non-null    object \n",
            " 8   pus_cell_clumps          396 non-null    object \n",
            " 9   bacteria                 396 non-null    object \n",
            " 10  blood glucose random     356 non-null    float64\n",
            " 11  blood_urea               381 non-null    float64\n",
            " 12  serum_creatinine         383 non-null    float64\n",
            " 13  sodium                   313 non-null    float64\n",
            " 14  potassium                312 non-null    float64\n",
            " 15  hemoglobin               348 non-null    float64\n",
            " 16  packed_cell_volume       330 non-null    object \n",
            " 17  white_blood_cell_count   295 non-null    object \n",
            " 18  red_blood_cell_count     270 non-null    object \n",
            " 19  hypertension             398 non-null    object \n",
            " 20  diabetesmellitus         398 non-null    object \n",
            " 21  coronary_artery_disease  398 non-null    object \n",
            " 22  appetite                 399 non-null    object \n",
            " 23  pedal_edema              399 non-null    object \n",
            " 24  anemia                   399 non-null    object \n",
            " 25  class                    400 non-null    object \n",
            "dtypes: float64(11), int64(1), object(14)\n",
            "memory usage: 81.4+ KB\n"
          ]
        }
      ]
    },
    {
      "cell_type": "code",
      "source": [
        "data['blood glucose random'].fillna(data['blood glucose random'].mean(), inplace=True)"
      ],
      "metadata": {
        "id": "6gS80rETZJZm"
      },
      "execution_count": null,
      "outputs": []
    },
    {
      "cell_type": "code",
      "source": [
        "data['blood_pressure'].fillna(data['blood_pressure'].mean(), inplace=True)"
      ],
      "metadata": {
        "id": "1qsDolz1ZJzm"
      },
      "execution_count": null,
      "outputs": []
    },
    {
      "cell_type": "code",
      "source": [
        "data['blood_urea'].fillna(data['blood_urea'].mean(), inplace=True)"
      ],
      "metadata": {
        "id": "5xzGccQmZJ2O"
      },
      "execution_count": null,
      "outputs": []
    },
    {
      "cell_type": "code",
      "source": [
        "data['hemoglobin'].fillna(data['hemoglobin'].mean(), inplace=True)"
      ],
      "metadata": {
        "id": "4UJGMZB5ZJ42"
      },
      "execution_count": null,
      "outputs": []
    },
    {
      "cell_type": "code",
      "source": [
        "data['pcv'].fillna(data['pcv'].mean(), inplace=True)   "
      ],
      "metadata": {
        "id": "jGh9R3erZJ7u"
      },
      "execution_count": null,
      "outputs": []
    },
    {
      "cell_type": "code",
      "source": [
        "data['potassium'].fillna(data['potassium'].mean(), inplace=True)"
      ],
      "metadata": {
        "id": "njYP72uuZJ93"
      },
      "execution_count": null,
      "outputs": []
    },
    {
      "cell_type": "code",
      "source": [
        "data['red_blood_cell_count'].fillna(data['red_blood_cell_count'].mean(), inplace=True)"
      ],
      "metadata": {
        "id": "fG4MQCVWZKAn"
      },
      "execution_count": null,
      "outputs": []
    },
    {
      "cell_type": "code",
      "source": [
        "data['serum_creatinine'].fillna(data['serum_creatinine'].mean(), inplace=True)"
      ],
      "metadata": {
        "id": "9f4Rp02pZKC3"
      },
      "execution_count": null,
      "outputs": []
    },
    {
      "cell_type": "code",
      "source": [
        "data['sodium'].fillna(data['sodium'].mean(), inplace=True)"
      ],
      "metadata": {
        "id": "QEeBWIP9ZKFA"
      },
      "execution_count": null,
      "outputs": []
    },
    {
      "cell_type": "code",
      "source": [
        "data['white_blood_cell_count'].fillna(data['white_blood_cell_count'].mean(), inplace=True)"
      ],
      "metadata": {
        "id": "CExlZafqbFv3"
      },
      "execution_count": null,
      "outputs": []
    },
    {
      "cell_type": "code",
      "source": [
        "data['age'].fillna(data['age'].mode()[0], inplace=True)"
      ],
      "metadata": {
        "id": "8kjBKLRfbFym"
      },
      "execution_count": null,
      "outputs": []
    },
    {
      "cell_type": "code",
      "source": [
        "data['hypertension'].fillna(data['hypertension'].mode()[0], inplace=True)"
      ],
      "metadata": {
        "id": "_tnT09R7bF1m"
      },
      "execution_count": null,
      "outputs": []
    },
    {
      "cell_type": "code",
      "source": [
        "data['pus_cell_clumps'].fillna(data['pus_cell_clumps'].mode()[0],inplace=True) "
      ],
      "metadata": {
        "id": "4tiolYHSbF62"
      },
      "execution_count": null,
      "outputs": []
    },
    {
      "cell_type": "code",
      "source": [
        "data['appetite'].fillna(data['appetite'].mode()[0], inplace=True)"
      ],
      "metadata": {
        "id": "LQMj41Z4bWaW"
      },
      "execution_count": null,
      "outputs": []
    },
    {
      "cell_type": "code",
      "source": [
        "data['albumin'].fillna(data['albumin'].mode()[0], inplace=True)"
      ],
      "metadata": {
        "id": "kGEn8CAGbWc-"
      },
      "execution_count": null,
      "outputs": []
    },
    {
      "cell_type": "code",
      "source": [
        "data['pus_cell'].fillna(data['pus_cell'].mode()[0], inplace=True) "
      ],
      "metadata": {
        "id": "xuQqS2eibWit"
      },
      "execution_count": null,
      "outputs": []
    },
    {
      "cell_type": "code",
      "source": [
        "data['red_blood_cells'].fillna(data['red_blood_cells'].mode()[0],inplace=True)"
      ],
      "metadata": {
        "id": "EJAwdmoZbWpF"
      },
      "execution_count": null,
      "outputs": []
    },
    {
      "cell_type": "code",
      "source": [
        "data['coronary_artery_disease'].fillna(data['coronary_artery_disease'].mode()[0], inplace=True)"
      ],
      "metadata": {
        "id": "NIyGB7nRbW1G"
      },
      "execution_count": null,
      "outputs": []
    },
    {
      "cell_type": "code",
      "source": [
        "data['bacteria'].fillna(data['bacteria'].mode()[0], inplace=True)"
      ],
      "metadata": {
        "id": "iGA5Hos6bW4e"
      },
      "execution_count": null,
      "outputs": []
    },
    {
      "cell_type": "code",
      "source": [
        "data['anemia']. fillna(data['anemia'].mode()[0], inplace=True)"
      ],
      "metadata": {
        "id": "SvPVXOXTbW74"
      },
      "execution_count": null,
      "outputs": []
    },
    {
      "cell_type": "code",
      "source": [
        "data['sugar'].fillna(data['sugar'].mode()[0], inplace=True)"
      ],
      "metadata": {
        "id": "FPAzm557bXB1"
      },
      "execution_count": null,
      "outputs": []
    },
    {
      "cell_type": "code",
      "source": [
        "data['diabetesmellitus'].fillna(data['diabetesmellitus'].mode()[0], inplace=True)"
      ],
      "metadata": {
        "id": "UYJOiK6wbXGW"
      },
      "execution_count": null,
      "outputs": []
    },
    {
      "cell_type": "code",
      "source": [
        "data['pedal_edema'].fillna(data['pedal_edema'].mode()[0],inplace=True)"
      ],
      "metadata": {
        "id": "KjStVMMLbXRt"
      },
      "execution_count": null,
      "outputs": []
    },
    {
      "cell_type": "code",
      "source": [
        "data['specific_gravity'].fillna(data['specific_gravity'].mode()[0],inplace=True)"
      ],
      "metadata": {
        "id": "AIhFBFb-bXe-"
      },
      "execution_count": null,
      "outputs": []
    },
    {
      "cell_type": "code",
      "source": [
        "catcols=set(data.dtypes[data.dtypes=='0'].index.values)"
      ],
      "metadata": {
        "id": "IFwcBWHObXpd"
      },
      "execution_count": null,
      "outputs": []
    },
    {
      "cell_type": "code",
      "source": [
        "print(catcols)"
      ],
      "metadata": {
        "colab": {
          "base_uri": "https://localhost:8080/"
        },
        "id": "D6HcQIbFZKHX",
        "outputId": "8bdbe9b8-eaa9-4901-b5e3-425080f54338"
      },
      "execution_count": null,
      "outputs": [
        {
          "output_type": "stream",
          "name": "stdout",
          "text": [
            "set()\n"
          ]
        }
      ]
    },
    {
      "cell_type": "code",
      "source": [
        "for i in catcols:\n",
        "  print(\"columns :\",i)\n",
        "  print(c(data[i]))\n",
        "  print('*'*120+'\\n')"
      ],
      "metadata": {
        "id": "f5eveUlAZKLh"
      },
      "execution_count": null,
      "outputs": []
    },
    {
      "cell_type": "code",
      "source": [
        "catcols.remove('red_blood_cell_count')"
      ],
      "metadata": {
        "id": "4Ou42V38lkC9"
      },
      "execution_count": null,
      "outputs": []
    },
    {
      "cell_type": "code",
      "source": [
        "catcols.remove('packed_cell_volume')"
      ],
      "metadata": {
        "id": "8usUHv9HlkFp"
      },
      "execution_count": null,
      "outputs": []
    },
    {
      "cell_type": "code",
      "source": [
        "catcols.remove('white_blood_cell_count')"
      ],
      "metadata": {
        "id": "dI2ryOYDlkIA"
      },
      "execution_count": null,
      "outputs": []
    },
    {
      "cell_type": "code",
      "source": [
        "print(catcols)"
      ],
      "metadata": {
        "id": "0SAKEcjClkM8"
      },
      "execution_count": null,
      "outputs": []
    },
    {
      "cell_type": "code",
      "source": [
        "catcols=['anemia','pedal_edma','appetite','batcteria','class','coronary_artery_disease','diabetesmellit','hypertension','pus_cell_clumps','red_blood_cells']"
      ],
      "metadata": {
        "id": "qcWwEeVblkPN"
      },
      "execution_count": null,
      "outputs": []
    },
    {
      "cell_type": "code",
      "source": [
        "from sklearn.preprocessing import lableEncoder"
      ],
      "metadata": {
        "id": "UthsBi_mlkRr"
      },
      "execution_count": null,
      "outputs": []
    },
    {
      "cell_type": "code",
      "source": [
        "for i in catcols:"
      ],
      "metadata": {
        "id": "TxhCbv_9nuWu"
      },
      "execution_count": null,
      "outputs": []
    },
    {
      "cell_type": "code",
      "source": [
        "print(\"LABLE ENCODING OF:\",i)"
      ],
      "metadata": {
        "id": "u3sYa5ONnuZU"
      },
      "execution_count": null,
      "outputs": []
    },
    {
      "cell_type": "code",
      "source": [
        "LEi=LableEncoder()"
      ],
      "metadata": {
        "id": "EAy3ti79nuea"
      },
      "execution_count": null,
      "outputs": []
    },
    {
      "cell_type": "code",
      "source": [
        "print(c(data[i]))"
      ],
      "metadata": {
        "id": "wlz4Bv-bnuhB"
      },
      "execution_count": null,
      "outputs": []
    },
    {
      "cell_type": "code",
      "source": [
        "data[i]= LEi.fit_transform(data[i])"
      ],
      "metadata": {
        "id": "5m2q37rWnujY"
      },
      "execution_count": null,
      "outputs": []
    },
    {
      "cell_type": "code",
      "source": [
        "print(c(data[i]))"
      ],
      "metadata": {
        "id": "KYO3nhHQnul3"
      },
      "execution_count": null,
      "outputs": []
    },
    {
      "cell_type": "code",
      "source": [
        "print(\"*\"*100)"
      ],
      "metadata": {
        "id": "VUFS0R7-KeBf"
      },
      "execution_count": null,
      "outputs": []
    },
    {
      "cell_type": "code",
      "source": [
        "contcols=set(data.types[sata.type!='0'].index.values)"
      ],
      "metadata": {
        "id": "IxhDRjp7KeE9"
      },
      "execution_count": null,
      "outputs": []
    },
    {
      "cell_type": "code",
      "source": [
        "print(contcols)"
      ],
      "metadata": {
        "id": "zdt5NcdQKeId"
      },
      "execution_count": null,
      "outputs": []
    },
    {
      "cell_type": "code",
      "source": [
        "for i in contcolos:\n",
        "  print(\"Continous Columns :\",i)\n",
        "  print(c(data[i]))\n",
        "  print('*'*120+'\\n')"
      ],
      "metadata": {
        "id": "smFpoTtvKeLf"
      },
      "execution_count": null,
      "outputs": []
    },
    {
      "cell_type": "code",
      "source": [
        "contcols.remove('specific_gravity')"
      ],
      "metadata": {
        "id": "d04TgbXXKeQK"
      },
      "execution_count": null,
      "outputs": []
    },
    {
      "cell_type": "code",
      "source": [
        "contcols.remove('albumin')"
      ],
      "metadata": {
        "id": "3YlArnU6KeUl"
      },
      "execution_count": null,
      "outputs": []
    },
    {
      "cell_type": "code",
      "source": [
        "contcols.remove('sugar')"
      ],
      "metadata": {
        "id": "gPLQcTaSKeoW"
      },
      "execution_count": null,
      "outputs": []
    },
    {
      "cell_type": "code",
      "source": [
        "print(contcols)"
      ],
      "metadata": {
        "id": "mhTNJ9RYKerf"
      },
      "execution_count": null,
      "outputs": []
    },
    {
      "cell_type": "code",
      "source": [
        "contcols.add('red_blood_cell_count')"
      ],
      "metadata": {
        "id": "GO8VtKurKet8"
      },
      "execution_count": null,
      "outputs": []
    },
    {
      "cell_type": "code",
      "source": [
        "contcols.add('packed_cell_volume')"
      ],
      "metadata": {
        "id": "lwC64ERjKeyi"
      },
      "execution_count": null,
      "outputs": []
    },
    {
      "cell_type": "code",
      "source": [
        "contcols.add('white_blood_cell_count')"
      ],
      "metadata": {
        "id": "ovYxdDRRKe1M"
      },
      "execution_count": null,
      "outputs": []
    },
    {
      "cell_type": "code",
      "source": [
        "contcols.add('specific_gravity')"
      ],
      "metadata": {
        "id": "Zo5ELyXWNjUN"
      },
      "execution_count": null,
      "outputs": []
    },
    {
      "cell_type": "code",
      "source": [
        "cantcols.add('albumin')"
      ],
      "metadata": {
        "id": "4XpwIV20NjXD"
      },
      "execution_count": null,
      "outputs": []
    },
    {
      "cell_type": "code",
      "source": [
        "cantcols.add('sugar')"
      ],
      "metadata": {
        "id": "j8BvunbANjbk"
      },
      "execution_count": null,
      "outputs": []
    },
    {
      "cell_type": "code",
      "source": [
        "print(catcols)"
      ],
      "metadata": {
        "id": "tPVyZky7Njez"
      },
      "execution_count": null,
      "outputs": []
    },
    {
      "cell_type": "code",
      "source": [
        "data['coronary_artery_disease']"
      ],
      "metadata": {
        "id": "5Itp7vl5NjgX"
      },
      "execution_count": null,
      "outputs": []
    },
    {
      "cell_type": "code",
      "source": [
        "c(data['coronary_artery_diease'])"
      ],
      "metadata": {
        "id": "YcDAVEfcNjlU"
      },
      "execution_count": null,
      "outputs": []
    },
    {
      "cell_type": "code",
      "source": [
        "data['diabetesmellitus']=sata.diabetesmellitus.replace(to_replace={'\\tno':'no','\\tyes':'yes','yes':})"
      ],
      "metadata": {
        "id": "sm--hcYMNj_c"
      },
      "execution_count": null,
      "outputs": []
    },
    {
      "cell_type": "code",
      "source": [
        "c(data['diabetesmellitus'])"
      ],
      "metadata": {
        "id": "8Zu18M5QNkDA"
      },
      "execution_count": null,
      "outputs": []
    },
    {
      "cell_type": "code",
      "source": [
        "import matplotlib.pyplot as pltisport the matplotlib libaray"
      ],
      "metadata": {
        "id": "8HZy_Ia7NkFr"
      },
      "execution_count": null,
      "outputs": []
    },
    {
      "cell_type": "code",
      "source": [
        "fig=plt.figure(figsize=(5,5)) uplot size"
      ],
      "metadata": {
        "id": "R-h4aau9NkIT"
      },
      "execution_count": null,
      "outputs": []
    },
    {
      "cell_type": "code",
      "source": [
        "plt.scatter(datal age'], datal blood pressure),color=\"blue\")"
      ],
      "metadata": {
        "id": "k3Sq1yIwNkM0"
      },
      "execution_count": null,
      "outputs": []
    },
    {
      "cell_type": "code",
      "source": [
        "plt.xlabel(age) #set the Label for x-axis"
      ],
      "metadata": {
        "id": "q4auzdlbNkP8"
      },
      "execution_count": null,
      "outputs": []
    },
    {
      "cell_type": "code",
      "source": [
        "plt.ylabel('blood pressure) eset the label for y-axis"
      ],
      "metadata": {
        "id": "rebFP3oHQpc7"
      },
      "execution_count": null,
      "outputs": []
    },
    {
      "cell_type": "code",
      "source": [
        "plt.title(\"age vs blood scatter plot\") set a title for the axes"
      ],
      "metadata": {
        "id": "jHWC8FQZQpiR"
      },
      "execution_count": null,
      "outputs": []
    },
    {
      "cell_type": "code",
      "source": [
        "plt.figure(figsize-(20,15), facecolor=\"white\")"
      ],
      "metadata": {
        "id": "vy-rVwdbQpnC"
      },
      "execution_count": null,
      "outputs": []
    },
    {
      "cell_type": "code",
      "source": [
        "plotnumber - 1"
      ],
      "metadata": {
        "id": "Og4MwBFvQpq6"
      },
      "execution_count": null,
      "outputs": []
    },
    {
      "cell_type": "code",
      "source": [
        "for column in contcols:\n",
        "    if plotnumber<-11 :\n",
        "      ax-plt.subplot(3,4,plotnumber)\n",
        "      plt.scatter(data['age'], data[column])\n",
        "      plt.xlabel(column, fontsize=20)\n",
        "      plotnumber+=1\n",
        "plt.show()"
      ],
      "metadata": {
        "id": "1oe9jR7eQpv5"
      },
      "execution_count": null,
      "outputs": []
    },
    {
      "cell_type": "code",
      "source": [
        "fax-pit.subplots(figsize=(18,10))\n"
      ],
      "metadata": {
        "id": "_VwZpCG8Qp2k"
      },
      "execution_count": null,
      "outputs": []
    },
    {
      "cell_type": "code",
      "source": [
        "sns.heatmap(data.corr(), annot=True, fat=\".2f\", ax-ax, linewidth=8.5,linecolor=\"orange\")"
      ],
      "metadata": {
        "id": "suYpsKenQp5q"
      },
      "execution_count": null,
      "outputs": []
    },
    {
      "cell_type": "code",
      "source": [
        "plt.xticks(rotation-45)\n"
      ],
      "metadata": {
        "id": "OAtMUdehQp87"
      },
      "execution_count": null,
      "outputs": []
    },
    {
      "cell_type": "code",
      "source": [
        "plt.yticks(rotation=15)\n"
      ],
      "metadata": {
        "id": "QzmQTdOJQqAl"
      },
      "execution_count": null,
      "outputs": []
    },
    {
      "cell_type": "code",
      "source": [
        "plt.show()"
      ],
      "metadata": {
        "id": "qKae7Iu6QqDx"
      },
      "execution_count": null,
      "outputs": []
    },
    {
      "cell_type": "code",
      "source": [
        "sns.countplot(data['class'])"
      ],
      "metadata": {
        "id": "T2p2wwAOQqHZ"
      },
      "execution_count": null,
      "outputs": []
    },
    {
      "cell_type": "code",
      "source": [
        "from sklearn.preprocessing import StandardScaler"
      ],
      "metadata": {
        "id": "wFcKdSw5QqMQ"
      },
      "execution_count": null,
      "outputs": []
    },
    {
      "cell_type": "code",
      "source": [
        "sc-StandardScaler()"
      ],
      "metadata": {
        "id": "Wjb0Plb2hTik"
      },
      "execution_count": null,
      "outputs": []
    },
    {
      "cell_type": "code",
      "source": [
        "x_bal-sc.fit_transform(x)"
      ],
      "metadata": {
        "id": "ZUJX523IhTrb"
      },
      "execution_count": null,
      "outputs": []
    },
    {
      "cell_type": "code",
      "source": [
        "selcols=['red_cells','pus_cell','blood gluose random','blood_urea','pes=dal_edema','anemia','diabetesmellitus','coronary_artery_disease']"
      ],
      "metadata": {
        "id": "foPj70LkhTy7"
      },
      "execution_count": null,
      "outputs": []
    },
    {
      "cell_type": "code",
      "source": [
        "x=pd.DataFrame(data,columns=aelcols)"
      ],
      "metadata": {
        "id": "9UVRgRiYhUHz"
      },
      "execution_count": null,
      "outputs": []
    },
    {
      "cell_type": "code",
      "source": [
        "y=pd.DataFrame(data,columns=['class'])"
      ],
      "metadata": {
        "id": "bUAnsWiwhUMa"
      },
      "execution_count": null,
      "outputs": []
    },
    {
      "cell_type": "code",
      "source": [
        "print(x.shape)"
      ],
      "metadata": {
        "id": "m2mAXLIghURz"
      },
      "execution_count": null,
      "outputs": []
    },
    {
      "cell_type": "code",
      "source": [
        "print(y.shape)"
      ],
      "metadata": {
        "id": "QE2Y9jLzhUXi"
      },
      "execution_count": null,
      "outputs": []
    },
    {
      "cell_type": "code",
      "source": [
        "fromsklearn.model_selection import train_test_split"
      ],
      "metadata": {
        "id": "6lUVAEophUbD"
      },
      "execution_count": null,
      "outputs": []
    },
    {
      "cell_type": "code",
      "source": [
        "import tensorflow"
      ],
      "metadata": {
        "id": "CgESrE66hUd2"
      },
      "execution_count": null,
      "outputs": []
    },
    {
      "cell_type": "code",
      "source": [
        "from tensorflow.keras.models import Sequential"
      ],
      "metadata": {
        "id": "DJLiTKe8hUg-"
      },
      "execution_count": null,
      "outputs": []
    },
    {
      "cell_type": "code",
      "source": [
        "from tensorflow.keras.layers import Dense"
      ],
      "metadata": {
        "id": "SpPBmNS7hUja"
      },
      "execution_count": null,
      "outputs": []
    },
    {
      "cell_type": "code",
      "source": [
        "classification.add(Dense (30, activation='relu'))"
      ],
      "metadata": {
        "id": "S7zHO_lkhUnO"
      },
      "execution_count": null,
      "outputs": []
    },
    {
      "cell_type": "code",
      "source": [
        "classification.add(Dense (128,activation='relu'))"
      ],
      "metadata": {
        "id": "Wr4pu3ZbhUqJ"
      },
      "execution_count": null,
      "outputs": []
    },
    {
      "cell_type": "code",
      "source": [
        "classification.add(Dense (64, activation='relu'))"
      ],
      "metadata": {
        "id": "SC7H81mZhUvS"
      },
      "execution_count": null,
      "outputs": []
    },
    {
      "cell_type": "code",
      "source": [
        "classification.add(Dense(32, activation='relu'))"
      ],
      "metadata": {
        "id": "hIxOEUwjhUya"
      },
      "execution_count": null,
      "outputs": []
    },
    {
      "cell_type": "code",
      "source": [
        "classification.add(Dense (1, activation='sigmoid'))"
      ],
      "metadata": {
        "id": "2UKfEzrQhU0_"
      },
      "execution_count": null,
      "outputs": []
    },
    {
      "cell_type": "code",
      "source": [
        "classification.compile(optimizer='adam', loss='binary_crossentropy',metrics=['accuracy'])"
      ],
      "metadata": {
        "id": "COrMNH1LhU6i"
      },
      "execution_count": null,
      "outputs": []
    },
    {
      "cell_type": "code",
      "source": [
        "classification.fit(x_train,y_train, batch_size=10, validation_split-0.2, epochs=100)"
      ],
      "metadata": {
        "id": "BAfo3S2IhU9K"
      },
      "execution_count": null,
      "outputs": []
    },
    {
      "cell_type": "code",
      "source": [
        "from sklearn.linear model import LogisticRegression"
      ],
      "metadata": {
        "id": "GlMMox43hVAC"
      },
      "execution_count": null,
      "outputs": []
    },
    {
      "cell_type": "code",
      "source": [
        "Igr = Logistic Regression()"
      ],
      "metadata": {
        "id": "WTqwkqbQhVCa"
      },
      "execution_count": null,
      "outputs": []
    },
    {
      "cell_type": "code",
      "source": [
        "Igr.fit(x train,y train)"
      ],
      "metadata": {
        "id": "CjiYaSmmhVFP"
      },
      "execution_count": null,
      "outputs": []
    },
    {
      "cell_type": "code",
      "source": [
        "from sklearn metrics import accuracy score, classification"
      ],
      "metadata": {
        "id": "bAX15oPDhVHP"
      },
      "execution_count": null,
      "outputs": []
    },
    {
      "cell_type": "code",
      "source": [
        "y pred - 1gr.predict([[1.1`,121,000000,36,0,0,0,1]])"
      ],
      "metadata": {
        "id": "O3vUb0e8hVJl"
      },
      "execution_count": null,
      "outputs": []
    },
    {
      "cell_type": "code",
      "source": [
        "printfy pred)\n",
        "(y_pred)\n",
        "\n"
      ],
      "metadata": {
        "id": "adh43UvFhVQK"
      },
      "execution_count": null,
      "outputs": []
    },
    {
      "cell_type": "code",
      "source": [
        "print(y pred)"
      ],
      "metadata": {
        "id": "zytl_zt8hVbi"
      },
      "execution_count": null,
      "outputs": []
    },
    {
      "cell_type": "code",
      "source": [
        "(y_pred)"
      ],
      "metadata": {
        "id": "MjQM6XCBhVhS"
      },
      "execution_count": null,
      "outputs": []
    },
    {
      "cell_type": "code",
      "source": [
        "def predict exit(sample value):"
      ],
      "metadata": {
        "id": "geXdQJbto-Tc"
      },
      "execution_count": null,
      "outputs": []
    },
    {
      "cell_type": "code",
      "source": [
        "sample_value = np.array(sample value)"
      ],
      "metadata": {
        "id": "69rkoCZFo-YT"
      },
      "execution_count": null,
      "outputs": []
    },
    {
      "cell_type": "code",
      "source": [
        "Sample_value = sample value.reshape(1, -1)"
      ],
      "metadata": {
        "id": "3v9qU6d-o-bL"
      },
      "execution_count": null,
      "outputs": []
    },
    {
      "cell_type": "code",
      "source": [
        "sample value-sc.transform(sample_value)"
      ],
      "metadata": {
        "id": "I9IoJYeko-ev"
      },
      "execution_count": null,
      "outputs": []
    },
    {
      "cell_type": "code",
      "source": [
        "return classifier.predict(sample value)"
      ],
      "metadata": {
        "id": "WaXWrqV_o-jl"
      },
      "execution_count": null,
      "outputs": []
    },
    {
      "cell_type": "code",
      "source": [
        "test-classification.predict([[1,1,121.000000,36.0,0,0,1,0]]"
      ],
      "metadata": {
        "id": "iRavA-XQo-m0"
      },
      "execution_count": null,
      "outputs": []
    },
    {
      "cell_type": "code",
      "source": [
        "\n",
        "if test=1:"
      ],
      "metadata": {
        "id": "5PUnmOJoo-pc"
      },
      "execution_count": null,
      "outputs": []
    },
    {
      "cell_type": "code",
      "source": [
        "print(\"Prediction: High chance of CKD!\")"
      ],
      "metadata": {
        "id": "GtUvqn7Yo-rx"
      },
      "execution_count": null,
      "outputs": []
    },
    {
      "cell_type": "code",
      "source": [
        "else:"
      ],
      "metadata": {
        "id": "FlGs6VhSo-uY"
      },
      "execution_count": null,
      "outputs": []
    },
    {
      "cell_type": "code",
      "source": [
        "print(\"Prediction: Low chance of CKD.\")"
      ],
      "metadata": {
        "id": "6j8qkOL9o-zN"
      },
      "execution_count": null,
      "outputs": []
    },
    {
      "cell_type": "code",
      "source": [
        "from sklearn import model_selection"
      ],
      "metadata": {
        "id": "7cZZyKWio-1z"
      },
      "execution_count": null,
      "outputs": []
    },
    {
      "cell_type": "code",
      "source": [
        "dfs=[]"
      ],
      "metadata": {
        "id": "rizh47lKo-9_"
      },
      "execution_count": null,
      "outputs": []
    },
    {
      "cell_type": "code",
      "source": [
        "models=[\n",
        "        (Loge, LogisticRegression()).. Candoni orestclassifier()),\n",
        "        (\"Decisionfree\" „Decision treeclassifier()),\n",
        "       ]\n",
        "resulta=[]\n",
        "     names=[]\n",
        "     scoring = ['accuracy, precision weighted\", \"recallweighted\", \"f1 weighted\" \"roc auch']   \n",
        "     target names 'NO CKD, CKD | for name, model in models:\n",
        "     for name, model in model:\n",
        "         kfold - model_selection.Fold(n_splits-5, shufflestra, random_state=90210)\n",
        "         cv_results - model selection.cross_validate(model, x train, y train, cvskfold, scoring-scoring) \n",
        "         clf model.fit(x train, y train)\n",
        "         y_predclf.predict(x_test)\n",
        "         print(name)\n",
        "         print(classification_report(y_test, y pred, target_names-target_names))\n",
        "         results.append(cv_results)\n",
        "         names.append(name)\n",
        "         this df pd.DataFrame(cv results)\n",
        "         this def model name \n",
        "         dfs.append(this df)\n",
        "final = pd.concat(dfs, ignore_index=True)\n",
        "return final\n",
        "\n",
        "       "
      ],
      "metadata": {
        "id": "rxmKhkNho_Ab"
      },
      "execution_count": null,
      "outputs": []
    },
    {
      "cell_type": "code",
      "source": [
        "from sklearn.metrics import confusion_matrix"
      ],
      "metadata": {
        "id": "TmUvrwV8o_C9"
      },
      "execution_count": null,
      "outputs": []
    },
    {
      "cell_type": "code",
      "source": [
        "cm=confusion_matrix(y_test, y_predict)"
      ],
      "metadata": {
        "id": "XlVSIsVWo_Fk"
      },
      "execution_count": null,
      "outputs": []
    },
    {
      "cell_type": "code",
      "source": [
        "cm"
      ],
      "metadata": {
        "id": "uRUWP-Wjo_IL"
      },
      "execution_count": null,
      "outputs": []
    },
    {
      "cell_type": "code",
      "source": [
        "plt.figure(figsize=(8,6))"
      ],
      "metadata": {
        "id": "rl5ZU9mQo_Kh"
      },
      "execution_count": null,
      "outputs": []
    },
    {
      "cell_type": "code",
      "source": [
        "sns.heatmap(cm, cmap- Blues', annot-True, xticklabels-['no ckd', 'ckd'], yticklabels-['no ckd', 'ckd'])"
      ],
      "metadata": {
        "id": "Y7_M8IVTo_O2"
      },
      "execution_count": null,
      "outputs": []
    },
    {
      "cell_type": "code",
      "source": [
        "plt.xlabel('Predicted values')"
      ],
      "metadata": {
        "id": "9FNOryybo_Ts"
      },
      "execution_count": null,
      "outputs": []
    },
    {
      "cell_type": "code",
      "source": [
        "plt.ylabel(\"Actual values')"
      ],
      "metadata": {
        "id": "CLwu5KXYo_Wz"
      },
      "execution_count": null,
      "outputs": []
    },
    {
      "cell_type": "code",
      "source": [
        "plt.title('Confusion Matrix for Logistic Regression model')"
      ],
      "metadata": {
        "id": "OO10X9M7o_bz"
      },
      "execution_count": null,
      "outputs": []
    },
    {
      "cell_type": "code",
      "source": [
        "plt.show()"
      ],
      "metadata": {
        "id": "glE30F0Uo_fV"
      },
      "execution_count": null,
      "outputs": []
    },
    {
      "cell_type": "code",
      "source": [
        "from sklearn.metrics import confusion_matrix\n"
      ],
      "metadata": {
        "id": "vjvsUfS6o_qj"
      },
      "execution_count": null,
      "outputs": []
    },
    {
      "cell_type": "code",
      "source": [
        "cm confusion matrix(y_test, y predict)"
      ],
      "metadata": {
        "id": "MoUBmv8-o_tL"
      },
      "execution_count": null,
      "outputs": []
    },
    {
      "cell_type": "code",
      "source": [
        "cm"
      ],
      "metadata": {
        "id": "FdbSDVjho_wA"
      },
      "execution_count": null,
      "outputs": []
    },
    {
      "cell_type": "code",
      "source": [
        "plt.figure(figsize-(8,6))"
      ],
      "metadata": {
        "id": "YmRAYluH4Is4"
      },
      "execution_count": null,
      "outputs": []
    },
    {
      "cell_type": "code",
      "source": [
        "plt.heatmap(cm, cap='Blues', annot=True, xticklabels=['no ckd', 'ckd'], yticklabels-[\"no ckd', 'cku'])"
      ],
      "metadata": {
        "id": "MpyUqTi_4IyX"
      },
      "execution_count": null,
      "outputs": []
    },
    {
      "cell_type": "code",
      "source": [
        "plt.xlabel('Predicted values\")"
      ],
      "metadata": {
        "id": "j7nF_2pS4I1j"
      },
      "execution_count": null,
      "outputs": []
    },
    {
      "cell_type": "code",
      "source": [
        "plt.ylabel('Actual values')"
      ],
      "metadata": {
        "id": "fkfENS9o4I9X"
      },
      "execution_count": null,
      "outputs": []
    },
    {
      "cell_type": "code",
      "source": [
        "plt.tittle('confusion Matrix for RandomForestClassifier')\n"
      ],
      "metadata": {
        "id": "7KLp1eeu4JAn"
      },
      "execution_count": null,
      "outputs": []
    },
    {
      "cell_type": "code",
      "source": [
        "plt.show()"
      ],
      "metadata": {
        "id": "dFBhLR7_4JDX"
      },
      "execution_count": null,
      "outputs": []
    },
    {
      "cell_type": "code",
      "source": [
        "from sklearn.metrics import confusion_matrix"
      ],
      "metadata": {
        "id": "Hyd6tMnZ4JF_"
      },
      "execution_count": null,
      "outputs": []
    },
    {
      "cell_type": "code",
      "source": [
        "cm confusion matrix(y_test, y pred)\n"
      ],
      "metadata": {
        "id": "FS9vUrwP4JH8"
      },
      "execution_count": null,
      "outputs": []
    },
    {
      "cell_type": "code",
      "source": [
        "cm"
      ],
      "metadata": {
        "id": "uLiK6m6s4JOH"
      },
      "execution_count": null,
      "outputs": []
    },
    {
      "cell_type": "code",
      "source": [
        "plt.figure(figsize-(8,6))"
      ],
      "metadata": {
        "id": "xOlyWcTv4JSe"
      },
      "execution_count": null,
      "outputs": []
    },
    {
      "cell_type": "code",
      "source": [
        "sns.heatmap(cm, cap='Blues', annot=True, xticklabels=['no ckd', 'ckd'], yticklabels-[\"no ckd', 'ckd']) "
      ],
      "metadata": {
        "id": "1GrM3ZoW4JVv"
      },
      "execution_count": null,
      "outputs": []
    },
    {
      "cell_type": "code",
      "source": [
        "plt.xlabel('Predicted values\")"
      ],
      "metadata": {
        "id": "_8grZ43u4JbX"
      },
      "execution_count": null,
      "outputs": []
    },
    {
      "cell_type": "code",
      "source": [
        "plt.ylabel('Actual values')"
      ],
      "metadata": {
        "id": "kdxTQGyV4Jet"
      },
      "execution_count": null,
      "outputs": []
    },
    {
      "cell_type": "code",
      "source": [
        "plt.title('Confusion Matrix for ANN model') "
      ],
      "metadata": {
        "id": "-OAQD9Rk4JiJ"
      },
      "execution_count": null,
      "outputs": []
    },
    {
      "cell_type": "code",
      "source": [
        "plt.show()"
      ],
      "metadata": {
        "id": "-XbZ0-ft4JlR"
      },
      "execution_count": null,
      "outputs": []
    },
    {
      "cell_type": "code",
      "source": [
        "from sklearn.metrics import confusion_matrix"
      ],
      "metadata": {
        "id": "Q1zjMZUw4Jqe"
      },
      "execution_count": null,
      "outputs": []
    },
    {
      "cell_type": "code",
      "source": [
        "cm confusion matrix(y_test, y pred)"
      ],
      "metadata": {
        "id": "PFqjFCX-4Jt0"
      },
      "execution_count": null,
      "outputs": []
    },
    {
      "cell_type": "code",
      "source": [
        "cm"
      ],
      "metadata": {
        "id": "GxxzLC4A4Jw-"
      },
      "execution_count": null,
      "outputs": []
    },
    {
      "cell_type": "code",
      "source": [
        "plt.figure(figsize-(8,6))"
      ],
      "metadata": {
        "id": "GrKLMF7C4J0i"
      },
      "execution_count": null,
      "outputs": []
    },
    {
      "cell_type": "code",
      "source": [
        "sns.heatmap(cm, cap='Blues', annot=True, xticklabels=['no ckd', 'ckd'], yticklabels-[\"no ckd', 'ckd']) "
      ],
      "metadata": {
        "id": "kgBOxQ4k4J3h"
      },
      "execution_count": null,
      "outputs": []
    },
    {
      "cell_type": "code",
      "source": [
        "plt.xlabel('Predicted values\")"
      ],
      "metadata": {
        "id": "j_vQhrHB4J6Q"
      },
      "execution_count": null,
      "outputs": []
    },
    {
      "cell_type": "code",
      "source": [
        "plt.ylabel('Actual values')"
      ],
      "metadata": {
        "id": "vt7Y9dhV64FJ"
      },
      "execution_count": null,
      "outputs": []
    },
    {
      "cell_type": "code",
      "source": [
        "bootstraps = []"
      ],
      "metadata": {
        "id": "-RZ5ti2X64H3"
      },
      "execution_count": null,
      "outputs": []
    },
    {
      "cell_type": "code",
      "source": [
        "for model in list(set(final.model.values)):"
      ],
      "metadata": {
        "id": "JTo9XcK264KP"
      },
      "execution_count": null,
      "outputs": []
    },
    {
      "cell_type": "code",
      "source": [
        "model_df-final.loc[final.model == model]"
      ],
      "metadata": {
        "id": "ZyCC1m6364Mp"
      },
      "execution_count": null,
      "outputs": []
    },
    {
      "cell_type": "code",
      "source": [
        "bootstrap-model_df.sample(n-30, replace=True) "
      ],
      "metadata": {
        "id": "RmanX1dW64PW"
      },
      "execution_count": null,
      "outputs": []
    },
    {
      "cell_type": "code",
      "source": [
        "bootstraps.append(bootstrap)"
      ],
      "metadata": {
        "id": "eWWcIg8C64Ro"
      },
      "execution_count": null,
      "outputs": []
    },
    {
      "cell_type": "code",
      "source": [
        "bootstrap_df = pd.concat(bootstraps, ignore_index=True) "
      ],
      "metadata": {
        "id": "fcK9mvFg8CQh"
      },
      "execution_count": null,
      "outputs": []
    },
    {
      "cell_type": "code",
      "source": [
        " results_long = pd.melt (bootstrap_df,id_vars['model'],var_name='metrics', value_name-'values')"
      ],
      "metadata": {
        "id": "fucKc_4X8CVf"
      },
      "execution_count": null,
      "outputs": []
    },
    {
      "cell_type": "code",
      "source": [
        "time_metrics = ['fit_time', 'score_time'] # fit time metrics"
      ],
      "metadata": {
        "id": "XaXMgnsn8CcY"
      },
      "execution_count": null,
      "outputs": []
    },
    {
      "cell_type": "code",
      "source": [
        "results_long.loc[~results_long['metrics'].isin(time_metrics)]"
      ],
      "metadata": {
        "id": "IY74VYRf8Cf5"
      },
      "execution_count": null,
      "outputs": []
    },
    {
      "cell_type": "code",
      "source": [
        "results_long_nofit.sort_values(by-'values')"
      ],
      "metadata": {
        "id": "WYbNHlPg8Ctw"
      },
      "execution_count": null,
      "outputs": []
    },
    {
      "cell_type": "code",
      "source": [
        "results_long_fit results_long.loc[results_long['metrics'].isin(time_metrics)] "
      ],
      "metadata": {
        "id": "yl5bNpVL8Cx2"
      },
      "execution_count": null,
      "outputs": []
    },
    {
      "cell_type": "code",
      "source": [
        "results_long_fit.sort_values(by-'values')"
      ],
      "metadata": {
        "id": "VYub0Jqk64XM"
      },
      "execution_count": null,
      "outputs": []
    },
    {
      "cell_type": "code",
      "source": [
        "pickle.dumb(lgr,open('CKD.PKL','wbfrom flask'))"
      ],
      "metadata": {
        "id": "RuIWEd-l64cv"
      },
      "execution_count": null,
      "outputs": []
    },
    {
      "cell_type": "code",
      "source": [
        "impport flash,render_template,request"
      ],
      "metadata": {
        "id": "u_3AtKi84J8u"
      },
      "execution_count": null,
      "outputs": []
    },
    {
      "cell_type": "code",
      "source": [
        "importnumpy as np"
      ],
      "metadata": {
        "id": "jy9NLKl94a7I"
      },
      "execution_count": null,
      "outputs": []
    },
    {
      "cell_type": "code",
      "source": [
        "import pickle"
      ],
      "metadata": {
        "id": "ri66DwiF4bD-"
      },
      "execution_count": null,
      "outputs": []
    },
    {
      "cell_type": "code",
      "source": [
        "app=flask(_name_)"
      ],
      "metadata": {
        "id": "FGQXC-VR4bHg"
      },
      "execution_count": null,
      "outputs": []
    },
    {
      "cell_type": "code",
      "source": [
        "model=pickle.load(open('CKD'.'PKL','rb'))"
      ],
      "metadata": {
        "id": "AcujZnPQ4bKh"
      },
      "execution_count": null,
      "outputs": []
    },
    {
      "cell_type": "code",
      "source": [
        "@app.route(%)"
      ],
      "metadata": {
        "id": "HGP70dMn4bNW"
      },
      "execution_count": null,
      "outputs": []
    },
    {
      "cell_type": "code",
      "source": [
        "def home():\n",
        "  return render_template('home.html')"
      ],
      "metadata": {
        "id": "TM52b5Mb4bQZ"
      },
      "execution_count": null,
      "outputs": []
    },
    {
      "cell_type": "code",
      "source": [
        "@app.route('/prediction',methods=['POST','GET'])"
      ],
      "metadata": {
        "id": "iLjiwdu_4bS-"
      },
      "execution_count": null,
      "outputs": []
    },
    {
      "cell_type": "code",
      "source": [
        "def prediction():\n",
        "  return render_template('indexnew.html')"
      ],
      "metadata": {
        "id": "9oYdtirH4bV-"
      },
      "execution_count": null,
      "outputs": []
    },
    {
      "cell_type": "code",
      "source": [
        "@app.route('/HOME',methods=['POST','GET'])"
      ],
      "metadata": {
        "id": "jC9PxsGc4bY3"
      },
      "execution_count": null,
      "outputs": []
    },
    {
      "cell_type": "code",
      "source": [
        "def my_home():\n",
        "  return render_template('home.html')"
      ],
      "metadata": {
        "id": "LKSwpWa84bb4"
      },
      "execution_count": null,
      "outputs": []
    },
    {
      "cell_type": "code",
      "source": [
        "@app.route('/predict',method=['POST'])"
      ],
      "metadata": {
        "id": "OvyTnlyH4bec"
      },
      "execution_count": null,
      "outputs": []
    },
    {
      "cell_type": "code",
      "source": [
        "def predict\n",
        "\n",
        "input_feature=[float(x)for x in request.from.values()]\n",
        "feature_value=[np.array(input_features)]\n",
        "feture_name=['blood urea','b;ood glucose random','anemia','coronary_artery_diasease','pus_cell','red_blood_cell','diabetesmellitus','peda;_edema']\n",
        "df=pd.DataFrame(feture_value,columns=features_name\n",
        " output=model.presition(pf))"
      ],
      "metadata": {
        "id": "CdxzFwXq4bhV"
      },
      "execution_count": null,
      "outputs": []
    },
    {
      "cell_type": "code",
      "source": [
        "return render_template('result.html',predictipon_text=output)"
      ],
      "metadata": {
        "id": "n0TUVdVk4bkN"
      },
      "execution_count": null,
      "outputs": []
    },
    {
      "cell_type": "code",
      "source": [
        "if_name_=='_main_':\n",
        "  app.run(debug=true)"
      ],
      "metadata": {
        "id": "-RyerrNd4bnF"
      },
      "execution_count": null,
      "outputs": []
    }
  ]
}